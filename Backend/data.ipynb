{
 "cells": [
  {
   "cell_type": "code",
   "execution_count": 100,
   "metadata": {},
   "outputs": [],
   "source": [
    "import pandas as pd\n",
    "import seaborn as sns\n",
    "import numpy as np\n",
    "import requests\n",
    "import time, os\n",
    "from bs4 import BeautifulSoup\n",
    "import datetime\n",
    "import re\n",
    "from datetime import date\n",
    "from selenium import webdriver\n",
    "from selenium.webdriver.chrome.service import Service\n",
    "from webdriver_manager.chrome import ChromeDriverManager\n",
    "from selenium.webdriver.chrome.options import Options\n",
    "from selenium.webdriver.common.action_chains import ActionChains\n",
    "from selenium.common.exceptions import NoSuchElementException\n",
    "pd.set_option('display.width', 1000)\n",
    "pd.set_option('display.max_columns', None)"
   ]
  },
  {
   "cell_type": "code",
   "execution_count": 101,
   "metadata": {},
   "outputs": [],
   "source": [
    "chromedriver = \"/workspaces/props.ai/Backend/applications/chromedriver.exe\"\n",
    "os.environ['webdriver.chrome.driver'] = chromedriver"
   ]
  },
  {
   "cell_type": "code",
   "execution_count": 102,
   "metadata": {},
   "outputs": [],
   "source": [
    "options = Options()\n",
    "options.add_argument('--headless')\n",
    "driver = webdriver.Chrome(options=options)"
   ]
  },
  {
   "cell_type": "code",
   "execution_count": 103,
   "metadata": {},
   "outputs": [],
   "source": [
    "bet_search =  'https://www.bettingpros.com/nba/picks/prop-bets/bet/points/'\n",
    "query = '?date=' + datetime.date(2021, 10, 19).strftime('%Y-%m-%d')\n",
    "bet_query = bet_search + query"
   ]
  },
  {
   "cell_type": "code",
   "execution_count": 104,
   "metadata": {},
   "outputs": [],
   "source": [
    "base = datetime.datetime.today()\n",
    "delta = base - datetime.datetime(2021, 10, 19)\n",
    "date_list = [base - datetime.timedelta(days=x) for x in range(delta.days+1)]\n",
    "date_list = [d.strftime('%Y-%m-%d') for d in date_list]"
   ]
  },
  {
   "cell_type": "code",
   "execution_count": 105,
   "metadata": {},
   "outputs": [],
   "source": [
    "bet_query = bet_search + '?date=' + '2021-12-20'\n",
    "driver.get(bet_query)\n",
    "soup = BeautifulSoup(driver.page_source, 'html.parser')"
   ]
  },
  {
   "cell_type": "code",
   "execution_count": 106,
   "metadata": {},
   "outputs": [],
   "source": [
    "final_df = pd.DataFrame()"
   ]
  },
  {
   "cell_type": "code",
   "execution_count": 107,
   "metadata": {},
   "outputs": [],
   "source": [
    "def get_site_rb(date):\n",
    "    bet_query = bet_search + '?date=' + date\n",
    "    driver.get(bet_query)\n",
    "    time.sleep(5)\n",
    "    try:\n",
    "        element = driver.find_element_by_xpath('//*[@id=\"onetrust-accept-btn-handler\"]')\n",
    "        action = ActionChains(driver)\n",
    "        action.move_to_element(element).click().perform()\n",
    "    except:\n",
    "        pass\n",
    "    get_data_rb()"
   ]
  },
  {
   "cell_type": "code",
   "execution_count": 108,
   "metadata": {},
   "outputs": [],
   "source": [
    "def get_data_rb():\n",
    "    data_str = []\n",
    "    data = []\n",
    "    li = []\n",
    "    soup = BeautifulSoup(driver.page_source, 'html.parser')\n",
    "    table = soup.find('table')\n",
    "    date = soup.find('h1').text\n",
    "    print(date)\n",
    "    date = date.split(\" \")[5]\n",
    "    date.strip(')')\n",
    "    date = date.replace('(',\"\").replace(')',\"\")\n",
    "    #house_accuracy = soup.find('div', class_='best-props__accuracy').text\n",
    "    table_data = table.tbody.find_all('tr')\n",
    "    for tr in table_data:\n",
    "        data_str.append(tr.text.replace('\\n', ' ').strip())\n",
    "    for i in data_str:\n",
    "        li = list(i.split('            '))\n",
    "        data.append(li)\n",
    "    for i in data:\n",
    "        if len(i) == 7:\n",
    "            i.append('TBD')\n",
    "            i.append(date)\n",
    "            #i.append(house_accuracy)\n",
    "        else:\n",
    "            i.append(date)\n",
    "            #i.append(house_accuracy)\n",
    "    global final_df\n",
    "    final_df = final_df.append(pd.DataFrame(data))\n",
    "    time.sleep(1)\n",
    "\n",
    "    try:\n",
    "        page_progress = driver.find_element_by_xpath('//div[contains(@class, \"table__pagination\")]').text.strip(\"«\").strip(\"»\").strip()\n",
    "        if int(page_progress[5]) == int(page_progress[10]):\n",
    "            return final_df\n",
    "        else:\n",
    "            element = driver.find_element_by_xpath('/html/body/div[2]/main/div/div/div/div[4]/div/div/a[2]')\n",
    "            action = ActionChains(driver)\n",
    "            action.move_to_element(element).click().perform()\n",
    "            time.sleep(3)\n",
    "            get_data_rb()\n",
    "    except:\n",
    "        return final_df"
   ]
  },
  {
   "cell_type": "code",
   "execution_count": 109,
   "metadata": {},
   "outputs": [
    {
     "name": "stdout",
     "output_type": "stream",
     "text": [
      "Best NBA  Player Props (04/24/2024)\n"
     ]
    },
    {
     "ename": "AttributeError",
     "evalue": "'NoneType' object has no attribute 'tbody'",
     "output_type": "error",
     "traceback": [
      "\u001b[0;31m---------------------------------------------------------------------------\u001b[0m",
      "\u001b[0;31mAttributeError\u001b[0m                            Traceback (most recent call last)",
      "Cell \u001b[0;32mIn[109], line 7\u001b[0m\n\u001b[1;32m      5\u001b[0m \u001b[38;5;28;01mif\u001b[39;00m i \u001b[38;5;241m==\u001b[39m \u001b[38;5;124m'\u001b[39m\u001b[38;5;124m2021-11-25\u001b[39m\u001b[38;5;124m'\u001b[39m:\n\u001b[1;32m      6\u001b[0m     \u001b[38;5;28;01mcontinue\u001b[39;00m\n\u001b[0;32m----> 7\u001b[0m \u001b[43mget_site_rb\u001b[49m\u001b[43m(\u001b[49m\u001b[43mi\u001b[49m\u001b[43m)\u001b[49m\n",
      "Cell \u001b[0;32mIn[107], line 11\u001b[0m, in \u001b[0;36mget_site_rb\u001b[0;34m(date)\u001b[0m\n\u001b[1;32m      9\u001b[0m \u001b[38;5;28;01mexcept\u001b[39;00m:\n\u001b[1;32m     10\u001b[0m     \u001b[38;5;28;01mpass\u001b[39;00m\n\u001b[0;32m---> 11\u001b[0m \u001b[43mget_data_rb\u001b[49m\u001b[43m(\u001b[49m\u001b[43m)\u001b[49m\n",
      "Cell \u001b[0;32mIn[108], line 13\u001b[0m, in \u001b[0;36mget_data_rb\u001b[0;34m()\u001b[0m\n\u001b[1;32m     11\u001b[0m date \u001b[38;5;241m=\u001b[39m date\u001b[38;5;241m.\u001b[39mreplace(\u001b[38;5;124m'\u001b[39m\u001b[38;5;124m(\u001b[39m\u001b[38;5;124m'\u001b[39m,\u001b[38;5;124m\"\u001b[39m\u001b[38;5;124m\"\u001b[39m)\u001b[38;5;241m.\u001b[39mreplace(\u001b[38;5;124m'\u001b[39m\u001b[38;5;124m)\u001b[39m\u001b[38;5;124m'\u001b[39m,\u001b[38;5;124m\"\u001b[39m\u001b[38;5;124m\"\u001b[39m)\n\u001b[1;32m     12\u001b[0m \u001b[38;5;66;03m#house_accuracy = soup.find('div', class_='best-props__accuracy').text\u001b[39;00m\n\u001b[0;32m---> 13\u001b[0m table_data \u001b[38;5;241m=\u001b[39m \u001b[43mtable\u001b[49m\u001b[38;5;241;43m.\u001b[39;49m\u001b[43mtbody\u001b[49m\u001b[38;5;241m.\u001b[39mfind_all(\u001b[38;5;124m'\u001b[39m\u001b[38;5;124mtr\u001b[39m\u001b[38;5;124m'\u001b[39m)\n\u001b[1;32m     14\u001b[0m \u001b[38;5;28;01mfor\u001b[39;00m tr \u001b[38;5;129;01min\u001b[39;00m table_data:\n\u001b[1;32m     15\u001b[0m     data_str\u001b[38;5;241m.\u001b[39mappend(tr\u001b[38;5;241m.\u001b[39mtext\u001b[38;5;241m.\u001b[39mreplace(\u001b[38;5;124m'\u001b[39m\u001b[38;5;130;01m\\n\u001b[39;00m\u001b[38;5;124m'\u001b[39m, \u001b[38;5;124m'\u001b[39m\u001b[38;5;124m \u001b[39m\u001b[38;5;124m'\u001b[39m)\u001b[38;5;241m.\u001b[39mstrip())\n",
      "\u001b[0;31mAttributeError\u001b[0m: 'NoneType' object has no attribute 'tbody'"
     ]
    }
   ],
   "source": [
    "for i in date_list:\n",
    "    \n",
    "    if i == '2021-12-24':\n",
    "        continue\n",
    "    if i == '2021-11-25':\n",
    "        continue\n",
    "    get_site_rb(i)"
   ]
  },
  {
   "cell_type": "code",
   "execution_count": null,
   "metadata": {},
   "outputs": [],
   "source": [
    "driver.close()"
   ]
  },
  {
   "cell_type": "code",
   "execution_count": null,
   "metadata": {},
   "outputs": [],
   "source": [
    "final_df.columns=['Name', 'Team', 'Opp', 'Type', 'Line', 'Pick', 'Moneyline', 'Result', 'Date', 'Accuracy']"
   ]
  },
  {
   "cell_type": "code",
   "execution_count": null,
   "metadata": {},
   "outputs": [],
   "source": [
    "player_name = final_df.Name.str.split(\" \", expand = True)\n",
    "final_df['Name'] = player_name[2] + ' ' + player_name[4]"
   ]
  },
  {
   "cell_type": "code",
   "execution_count": null,
   "metadata": {},
   "outputs": [],
   "source": [
    "final_df.reset_index(inplace=True, drop=True)"
   ]
  },
  {
   "cell_type": "code",
   "execution_count": null,
   "metadata": {},
   "outputs": [],
   "source": [
    "final_df.drop(columns=['index'], inplace=True)"
   ]
  },
  {
   "cell_type": "code",
   "execution_count": null,
   "metadata": {},
   "outputs": [],
   "source": [
    "team = final_df.Team.str.split(\" \", expand = True)\n"
   ]
  },
  {
   "cell_type": "code",
   "execution_count": null,
   "metadata": {},
   "outputs": [],
   "source": [
    "final_df['Team'] = team[0]\n",
    "final_df['Position'] = team[2]"
   ]
  },
  {
   "cell_type": "code",
   "execution_count": null,
   "metadata": {},
   "outputs": [],
   "source": [
    "opp = final_df.Opp.str.split(\" \", expand = True)\n"
   ]
  },
  {
   "cell_type": "code",
   "execution_count": null,
   "metadata": {},
   "outputs": [],
   "source": [
    "final_df.Opp = opp[1]\n",
    "final_df['Home/Away'] = opp[0]"
   ]
  },
  {
   "cell_type": "code",
   "execution_count": null,
   "metadata": {},
   "outputs": [],
   "source": [
    "bet_info = final_df.Line.str.split(\" \", expand = True)\n"
   ]
  },
  {
   "cell_type": "code",
   "execution_count": null,
   "metadata": {},
   "outputs": [],
   "source": [
    "final_df['Line'] = bet_info[7]\n",
    "final_df['Projection'] = bet_info[15]\n",
    "final_df['Diff'] = bet_info[9]\n",
    "final_df['Moneyline'] = bet_info[13]\n",
    "final_df['over_under'] = bet_info[16]\n",
    "final_df['over_under'] = final_df['over_under'].fillna('o')"
   ]
  },
  {
   "cell_type": "code",
   "execution_count": null,
   "metadata": {},
   "outputs": [],
   "source": [
    "final_df = final_df[['Date', 'Name', 'Team', 'Position', 'Opp','Home/Away', 'Line', 'Moneyline', 'Projection', 'Diff', 'Pick', 'Result', 'over_under']]\n"
   ]
  },
  {
   "cell_type": "code",
   "execution_count": null,
   "metadata": {},
   "outputs": [],
   "source": [
    "final_df['Projection'] = final_df['Projection'].map(lambda x: x.rstrip('ou'))\n"
   ]
  },
  {
   "cell_type": "code",
   "execution_count": null,
   "metadata": {},
   "outputs": [],
   "source": [
    "accuracies = final_df.Accuracy.str.split(\" \", expand = True)\n"
   ]
  },
  {
   "cell_type": "code",
   "execution_count": null,
   "metadata": {},
   "outputs": [],
   "source": [
    "final_df['Date'] = pd.to_datetime(final_df['Date'])\n"
   ]
  },
  {
   "cell_type": "code",
   "execution_count": null,
   "metadata": {},
   "outputs": [],
   "source": [
    "sorted_df = final_df.sort_values(by=['Name', 'Date'])\n",
    "sorted_df.reset_index(inplace=True, drop=True)"
   ]
  },
  {
   "cell_type": "code",
   "execution_count": null,
   "metadata": {},
   "outputs": [],
   "source": [
    "sorted_df['Line'] = pd.to_numeric(sorted_df.Line)\n"
   ]
  },
  {
   "cell_type": "code",
   "execution_count": null,
   "metadata": {},
   "outputs": [],
   "source": [
    "sorted_df = sorted_df.replace('EVEN', '+100')\n",
    "sorted_df = sorted_df.replace('TBD', np.nan)\n",
    "sorted_df['Moneyline'] = pd.to_numeric(sorted_df.Moneyline)\n",
    "sorted_df['Result'] = sorted_df.Result.apply(lambda x: str(x));sorted_df\n",
    "results = sorted_df.Result.str.split(' ', expand=True);\n",
    "sorted_df.Result = results[5]"
   ]
  },
  {
   "cell_type": "code",
   "execution_count": null,
   "metadata": {},
   "outputs": [],
   "source": [
    "sorted_df['Projection'] = pd.to_numeric(sorted_df.Projection)\n",
    "sorted_df['Diff'] = pd.to_numeric(sorted_df.Diff)\n",
    "sorted_df['Result'] = pd.to_numeric(sorted_df.Result)\n",
    "sorted_df['Pick'] = pd.to_numeric(sorted_df.Pick)"
   ]
  },
  {
   "cell_type": "code",
   "execution_count": null,
   "metadata": {},
   "outputs": [],
   "source": [
    "# Determine if website pick was a win or loss (for fun, potential spinoff angle).\n",
    "conditions = [\n",
    "    ((sorted_df['Result'] < sorted_df['Pick']) & (sorted_df['over_under'] == 'u')),\n",
    "    ((sorted_df['Result'] < sorted_df['Pick']) & (sorted_df['over_under'] == 'o')),\n",
    "    ((sorted_df['Result'] > sorted_df['Pick']) & (sorted_df['over_under'] =='o')),\n",
    "    ((sorted_df['Result'] > sorted_df['Pick']) & (sorted_df['over_under'] == 'u'))\n",
    "    ]\n",
    "\n",
    "# create a list of the values we want to assign for each condition\n",
    "values = ['1', '0', '1', '0']\n",
    "\n",
    "# create a new column and use np.select to assign values to it using our lists as arguments\n",
    "sorted_df['successful_pick'] = np.select(conditions, values)"
   ]
  },
  {
   "cell_type": "code",
   "execution_count": null,
   "metadata": {},
   "outputs": [],
   "source": [
    "sorted_df.to_csv('betting_data.csv')"
   ]
  }
 ],
 "metadata": {
  "kernelspec": {
   "display_name": ".venv",
   "language": "python",
   "name": "python3"
  },
  "language_info": {
   "codemirror_mode": {
    "name": "ipython",
    "version": 3
   },
   "file_extension": ".py",
   "mimetype": "text/x-python",
   "name": "python",
   "nbconvert_exporter": "python",
   "pygments_lexer": "ipython3",
   "version": "3.10.13"
  }
 },
 "nbformat": 4,
 "nbformat_minor": 2
}
